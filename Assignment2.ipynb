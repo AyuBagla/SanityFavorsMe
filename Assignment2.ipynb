{
  "nbformat": 4,
  "nbformat_minor": 0,
  "metadata": {
    "colab": {
      "provenance": [],
      "authorship_tag": "ABX9TyMYsZiNLpTvdZNYUZm4/Vr4",
      "include_colab_link": true
    },
    "kernelspec": {
      "name": "python3",
      "display_name": "Python 3"
    },
    "language_info": {
      "name": "python"
    }
  },
  "cells": [
    {
      "cell_type": "markdown",
      "metadata": {
        "id": "view-in-github",
        "colab_type": "text"
      },
      "source": [
        "<a href=\"https://colab.research.google.com/github/AyuBagla/SanityFavorsMe/blob/master/Assignment2.ipynb\" target=\"_parent\"><img src=\"https://colab.research.google.com/assets/colab-badge.svg\" alt=\"Open In Colab\"/></a>"
      ]
    },
    {
      "cell_type": "markdown",
      "source": [
        "1.What are the two values of the Boolean data type? How do you write them?\n",
        "\n",
        "A1. The two values of Boolean data type are 0 and 1 with custom display logic. In python we write them as True for 1 and False for 0. True and False function as objects.  "
      ],
      "metadata": {
        "id": "zc0zCS4Dfqvh"
      }
    },
    {
      "cell_type": "markdown",
      "source": [
        "2. What are the three different types of Boolean operators?\n",
        "\n",
        "A2. There are three boolean operators in Python:\n",
        "    1. and : X and Y is true if both X and Y are true\n",
        "    2. or : X or Y is true if either X or Y is true\n",
        "    3. not: not X is true if X is originally false\n",
        "Boolean operators and and or return a true or false operand object while not operator returns True or False values."
      ],
      "metadata": {
        "id": "fMynUh78flNb"
      }
    },
    {
      "cell_type": "markdown",
      "source": [
        "3. Make a list of each Boolean operator's truth tables (i.e. every possible combination of Boolean values for the operator and what it evaluates).\n",
        "\n",
        "A3. Truth table for and boolean operator is\n",
        "\n",
        "*   X = 0 and Y = 0 gives 0\n",
        "*   X = 1 and Y = 1 gives 1\n",
        "*   X = 0 and Y = 1 gives 0\n",
        "*   X = 1 and Y = 0 gives 0\n",
        "\n",
        "    Truth table for or boolean operator is\n",
        "*   X = 0 or Y = 0 gives 0\n",
        "*   X = 1 or Y = 1 gives 1\n",
        "*   X = 0 or Y = 1 gives 1\n",
        "*   X = 1 or Y = 0 gives 0\n",
        "\n",
        "    Truth table for Not boolean operator is\n",
        "*   X = 1 not gives X = 0\n",
        "*   X = 0 not gives X = 1\n",
        "\n",
        "\n",
        "\n",
        "\n",
        "\n",
        "\n",
        "\n"
      ],
      "metadata": {
        "id": "qm8D-S34ufo_"
      }
    },
    {
      "cell_type": "markdown",
      "source": [
        "4. What are the values of the following expressions?\n",
        ".(5 > 4) and (3 == 5)\n",
        "\n",
        ".not (5 > 4)\n",
        "\n",
        ".(5 > 4) or (3 == 5)\n",
        "\n",
        ".not ((5 > 4) or (3 == 5))\n",
        "\n",
        ".(True and True) and (True == False)\n",
        "\n",
        ".(not False) or (not True)\n",
        "\n",
        "A4. False\n",
        "False\n",
        "True\n",
        "False\n",
        "True"
      ],
      "metadata": {
        "id": "sCHzR5Ua0t2F"
      }
    },
    {
      "cell_type": "markdown",
      "source": [
        "5. What are the six comparison operators?\n",
        "\n",
        "A5. The six comparison operators are:\n",
        "x == y, x >= y, x <= y, x > y, x < y, x != y.\n",
        "In Python comparison operators are used to compare values and determine the relationsip between them."
      ],
      "metadata": {
        "id": "ANK_VB8RIbw_"
      }
    },
    {
      "cell_type": "markdown",
      "source": [
        "6. How do you tell the difference between the equal to and assignment operators?Describe a condition and when you would use one.\n",
        "\n",
        "A6. The equal to operator ('==') is a comparison operator used to check if two values are equal. For example: x == y compares if values of x and y are equal or not and returns 'True' if they are equal otherwise 'False'.\n",
        "The assignment operator ('=') is used to asign values to variables. For example :  x = 10 assigns the value of '10' to the variable 'x'."
      ],
      "metadata": {
        "id": "7jWqq1qIIbiO"
      }
    },
    {
      "cell_type": "markdown",
      "source": [
        "7. Identify the three blocks in this code:\n",
        "spam = 0\n",
        "if spam == 10:\n",
        "print('eggs)\n",
        "if spam > 5:\n",
        "print('bacon')\n",
        "else:\n",
        "print('ham')\n",
        "print('spam')\n",
        "print('spam)\n",
        "\n",
        "A7.\n",
        "   spam = 0\n",
        "    \n",
        "    if spam == 10:\n",
        "      \n",
        "       print('eggs)\n",
        "    \n",
        "    if spam > 5:\n",
        "      \n",
        "       print('bacon')\n",
        "   \n",
        "    else:\n",
        "       \n",
        "       print('ham')\n",
        "  \n",
        "  print('spam')\n",
        "  \n",
        "  print('spam)"
      ],
      "metadata": {
        "id": "8xvsu8_UHbMV"
      }
    },
    {
      "cell_type": "markdown",
      "source": [
        "8. Write code that prints Hello if 1 is stored in spam, prints Howdy if 2 is stored in spam, and prints\n",
        "Greetings! if anything else is stored in spam.\n",
        "\n",
        "A8.  spam = input()\n",
        "     \n",
        "     if spam == 1\n",
        "        \n",
        "        print(\"Hello\")\n",
        "     \n",
        "     elif spam == 2\n",
        "       \n",
        "        print(\"Howdy\")\n",
        "     \n",
        "     else\n",
        "        \n",
        "        print(\"Greetings!\")\n",
        "      "
      ],
      "metadata": {
        "id": "h0AcY8QZdKNB"
      }
    },
    {
      "cell_type": "code",
      "source": [
        "    spam = input()\n",
        "    if spam == 1:\n",
        "       print(\"Hello\")\n",
        "    elif spam == 2:\n",
        "       print(\"Howdy\")\n",
        "    else:\n",
        "       print(\"Greetings!\")"
      ],
      "metadata": {
        "colab": {
          "base_uri": "https://localhost:8080/"
        },
        "id": "eExGVx72m2C_",
        "outputId": "343526ba-4298-4aaa-d0d8-ec6a501971d5"
      },
      "execution_count": 12,
      "outputs": [
        {
          "output_type": "stream",
          "name": "stdout",
          "text": [
            "6\n",
            "Greetings!\n"
          ]
        }
      ]
    },
    {
      "cell_type": "markdown",
      "source": [
        "9.If your programme is stuck in an endless loop, what keys you’ll press?\n",
        "\n",
        "A9. Ctrl + C combination sends a keyboadInterrupt signal to the python interrupter causing it to stop executing the program.This should work in most python environments including command line terminals and IDEs such as Pycharm, Visual studio code and Jupyter notebooks."
      ],
      "metadata": {
        "id": "Da-dxix7dKJi"
      }
    },
    {
      "cell_type": "markdown",
      "source": [
        "10. How can you tell the difference between break and continue?\n",
        "\n",
        "\n",
        "A10. Break and continue are both control flow statements used in Python to alter the flow of Loops.\n",
        "'Break' is typically used to exit a loop when a certain condition is met, rather than continuing to iterate through the remaining elements of the loop.\n",
        "Example: for i in range(4):\n",
        "            if i == 2:\n",
        "               break\n",
        "            print(i)\n",
        "        #output 0 1\n",
        "Here, the loop prematurely terminates when i becomes equal to 2 and so the remaining iterations are skipped.\n",
        "\n",
        "The 'continue' statement is used to skip the current iteration of the loop and proceed with the next iteration. The statement is executed based on certain conditions met inside the loop.\n",
        "Example: for i in range(5):\n",
        "             if == 3:\n",
        "               continue\n",
        "             print(i)\n",
        "           # output 0 1 3 4"
      ],
      "metadata": {
        "id": "QU1a4sMPdKGp"
      }
    },
    {
      "cell_type": "markdown",
      "source": [
        "11. In a for loop, what is the difference between range(10), range(0, 10), and range(0, 10, 1)?\n",
        "\n",
        "A11. The range () function is used to generate a sequence of numbers starting from a specified start value (inclusive) upto but not including a specified stop value, with an optional step value with the default step value being 1. In a for loop 'range(10)', 'range(0, 10)', 'range(0, 10, 1)' produce the same sequence of numbers. There are slight differences in how they behave and how they are expressed. Range(10) is same as range(0, 10) with this function call having an explicit start value and the two functions calls are in turn similar to range(0, 10, 1) with this function call having an explicit step value thus generating numbers between 0 to 9."
      ],
      "metadata": {
        "id": "jiWHGscNdKDy"
      }
    },
    {
      "cell_type": "markdown",
      "source": [
        "12. Write a short program that prints the numbers 1 to 10 using a for loop. Then write an equivalent\n",
        "program that prints the numbers 1 to 10 using a while loop.\n",
        "\n",
        "A12.\n",
        "      # using a for loop\n",
        "      for i in range(1, 10):\n",
        "          print(i)\n",
        "\n",
        "     # similarly, using a while loop\n",
        "         i = 1\n",
        "         while i<=10\n",
        "         print(i)\n",
        "         i += 1\n",
        "     # both programs will produce the same output"
      ],
      "metadata": {
        "id": "Ei88AKL7OUjO"
      }
    },
    {
      "cell_type": "markdown",
      "source": [
        "13. If you had a function named bacon() inside a module named spam, how would you call it after\n",
        "importing spam?\n",
        "\n",
        "A13. After importing the spam module we can call the 'bacon()' function from within the spam module using the dot notation.\n",
        "  \n",
        "  import spam\n",
        "  \n",
        "  #using dot notation to call the bacon() function\n",
        "  \n",
        "  spam.bacon"
      ],
      "metadata": {
        "id": "tWfsmSnGYfYP"
      }
    }
  ]
}
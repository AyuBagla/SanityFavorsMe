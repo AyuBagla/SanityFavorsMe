{
  "metadata": {
    "language_info": {
      "name": ""
    },
    "kernelspec": {
      "name": "python",
      "display_name": "Python (Pyodide)",
      "language": "python"
    }
  },
  "nbformat_minor": 4,
  "nbformat": 4,
  "cells": [
    {
      "cell_type": "code",
      "source": "Q1. In the below elements which of them are values or an expression? eg:- values can be integer or string and expressions will be mathematical operators.\n* \n'hello'\n-87.8\n- \n/ \n+\n",
      "metadata": {
        "trusted": true
      },
      "execution_count": null,
      "outputs": []
    },
    {
      "cell_type": "code",
      "source": "A1. * = AN EXPRESSION\n'hello' = a value (a string)\n-87.8 = a value (a negative integer)\n- = an expression\n/ = an expression\n+ = an expression",
      "metadata": {
        "trusted": true
      },
      "execution_count": null,
      "outputs": []
    },
    {
      "cell_type": "code",
      "source": "Q2. What is the difference between string and variable?",
      "metadata": {
        "trusted": true
      },
      "execution_count": null,
      "outputs": []
    },
    {
      "cell_type": "code",
      "source": "A2. A variable is an entry in a system table with spaces for links to objects (objects are pieces of allocatted memory). \nA string is an example of a sequence - a positionally ordered collection of other objects. A String on its own is a sequence of one-character strings. \nStrings can hold both textual information as well as arbitrary collections of informations.",
      "metadata": {
        "trusted": true
      },
      "execution_count": null,
      "outputs": []
    },
    {
      "cell_type": "code",
      "source": "Q3. Describe three different data types.",
      "metadata": {
        "trusted": true
      },
      "execution_count": null,
      "outputs": []
    },
    {
      "cell_type": "code",
      "source": "A3. Python has these data types built-in by default in the following categories:\n\nText Type: str\nNumeric Types: int, float, complex\nSequence Types: list, tuple, range\nThere are many more categories with multiple data types.\nDescribing :\na. int: they are built-in numbers with no fractional part that represent the munerical quantities that fall within the mathematical set of Integers. \nb. complex: they are built-in numbers with imaginary parts \nc. List: It is the most general sequence provided in python language. It contains arbitrarily typedobjects and they have no fixed size. \nThey are also mutable.",
      "metadata": {
        "trusted": true
      },
      "execution_count": null,
      "outputs": []
    },
    {
      "cell_type": "code",
      "source": "Q4. What is an expression made up of? What do all expressions do?",
      "metadata": {
        "trusted": true
      },
      "execution_count": null,
      "outputs": []
    },
    {
      "cell_type": "code",
      "source": "A4. An expression is a combination of numbers(or other objects) and operators that computes a value when executed by Python. ",
      "metadata": {},
      "execution_count": null,
      "outputs": []
    },
    {
      "cell_type": "code",
      "source": "Q5. This assignment statements, like spam = 10. What is the difference between an expression and a statement?",
      "metadata": {
        "trusted": true
      },
      "execution_count": null,
      "outputs": []
    },
    {
      "cell_type": "code",
      "source": "A5. An expression consists of numbers along with operators that computes a value at the other side of '=' \nwhereas an assignement statement assigns a value to a variable.",
      "metadata": {},
      "execution_count": null,
      "outputs": []
    },
    {
      "cell_type": "code",
      "source": "Q6. After running the following code, what does the variable bacon contain?\nbacon = 22\nbacon + 1\n",
      "metadata": {
        "trusted": true
      },
      "execution_count": null,
      "outputs": []
    },
    {
      "cell_type": "code",
      "source": "A6. bacon = 22",
      "metadata": {},
      "execution_count": null,
      "outputs": []
    },
    {
      "cell_type": "code",
      "source": "Q7. What should the values of the following two terms be?\n'spam' + 'spamspam'\n'spam' * 3\n",
      "metadata": {
        "trusted": true
      },
      "execution_count": null,
      "outputs": []
    },
    {
      "cell_type": "code",
      "source": "A7. print('spam' + 'spamspam')\nprint('spam' * 3)\noutput:  spamspamspam\n         spamspamspam",
      "metadata": {
        "trusted": true
      },
      "execution_count": null,
      "outputs": []
    },
    {
      "cell_type": "code",
      "source": "Q8. Why is eggs a valid variable name while 100 is invalid?",
      "metadata": {
        "trusted": true
      },
      "execution_count": null,
      "outputs": []
    },
    {
      "cell_type": "code",
      "source": "A8. An identifier cannot start with a number hence 100 is invalid in Python as a variable name. ",
      "metadata": {},
      "execution_count": null,
      "outputs": []
    },
    {
      "cell_type": "code",
      "source": "Q9. What three functions can be used to get the integer, floating-point number, or string version of a value?",
      "metadata": {
        "trusted": true
      },
      "execution_count": null,
      "outputs": []
    },
    {
      "cell_type": "code",
      "source": "A9. Three functions can be used to get the integer, floating-point number, or string version of a value are: ",
      "metadata": {},
      "execution_count": null,
      "outputs": []
    },
    {
      "cell_type": "code",
      "source": "Q10. Why does this expression cause an error? How can you fix it?\n'I have eaten ' + 99 + ' burritos.'",
      "metadata": {
        "trusted": true
      },
      "execution_count": null,
      "outputs": []
    },
    {
      "cell_type": "code",
      "source": "A10. Python only enables concatenation of more than one strings. It throws error when we try to concatenate strings with the integer data type values. ",
      "metadata": {},
      "execution_count": null,
      "outputs": []
    },
    {
      "cell_type": "code",
      "source": "",
      "metadata": {},
      "execution_count": null,
      "outputs": []
    }
  ]
}